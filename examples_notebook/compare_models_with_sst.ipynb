{
 "cells": [
  {
   "cell_type": "markdown",
   "metadata": {},
   "source": [
    "# Compare models with SST\n",
    "\n",
    "This notebook shows an example of how to;\n",
    "* load SST data using the `default` driver\n",
    "* load NEMO model data using the `default` driver\n",
    "* interpolate the model data to the SST location using `xarray`\n",
    "* calculate metrics\n",
    "* visualise the results using `cartopy`"
   ]
  },
  {
   "cell_type": "code",
   "execution_count": null,
   "metadata": {},
   "outputs": [],
   "source": [
    "import sys\n",
    "\n",
    "sys.path.append(\"../\")\n",
    "import xarray as xr\n",
    "import numpy as np\n",
    "import zapata.data as zdat\n",
    "\n",
    "import warnings\n",
    "\n",
    "warnings.filterwarnings(\"ignore\")\n"
   ]
  },
  {
   "cell_type": "code",
   "execution_count": null,
   "metadata": {},
   "outputs": [],
   "source": [
    "# check catalogue contents\n",
    "zdat.inquire_catalogue()\n",
    "\n",
    "modelcat = 'BSFS-NRT_daily'\n",
    "\n",
    "zdat.inquire_catalogue(dataset=modelcat, info=True)\n"
   ]
  },
  {
   "cell_type": "code",
   "execution_count": null,
   "metadata": {},
   "outputs": [],
   "source": [
    "## Read Model data\n",
    "model = zdat.read_data(dataset=modelcat, var='votemper', period=[2018, 2018], level=[3.])\n",
    "\n",
    "if not np.issubdtype(model['time'].dtype, np.datetime64):\n",
    "    try:\n",
    "        from xarray.coding.times import cftime_to_nptime\n",
    "\n",
    "        model['time'] = cftime_to_nptime(model['time'])\n",
    "    except ValueError as e:\n",
    "        print(e)\n",
    "        pass\n"
   ]
  },
  {
   "cell_type": "code",
   "execution_count": null,
   "metadata": {},
   "outputs": [],
   "source": [
    "lat = model.nav_lat[:, 0]\n",
    "lon = model.nav_lon[0, :]\n",
    "model = model.assign_coords({\"lon\": lon, \"lat\": lat}).drop('lev')\n",
    "model = model.squeeze()\n"
   ]
  },
  {
   "cell_type": "code",
   "execution_count": null,
   "metadata": {},
   "outputs": [],
   "source": [
    "sstcat = 'SST'\n",
    "zdat.inquire_catalogue(dataset=sstcat, info=True)\n",
    "\n",
    "## Read SST data\n",
    "sst = zdat.read_data(dataset=sstcat, var='sea_surface_temperature', period=[2018, 2018])\n"
   ]
  },
  {
   "cell_type": "code",
   "execution_count": null,
   "metadata": {},
   "outputs": [],
   "source": [
    "#Filter SST data\n",
    "sst_qc = zdat.read_data(dataset=sstcat, var='quality_level', period=[2018, 2018])\n",
    "sst_filtered = sst.where(sst_qc == 4)"
   ]
  },
  {
   "cell_type": "code",
   "execution_count": null,
   "metadata": {},
   "outputs": [],
   "source": [
    "# Convert from Kelvin to Celsius\n",
    "if sst_filtered.attrs['units'] == 'kelvin':\n",
    "    sst_filtered -= 273.15\n",
    "    sst_filtered.attrs['units'] = 'degrees_C'\n",
    "\n",
    "if not np.issubdtype(sst_filtered['time'].dtype, np.datetime64):\n",
    "    try:\n",
    "        from xarray.coding.times import cftime_to_nptime\n",
    "\n",
    "        sst_filtered['time'] = cftime_to_nptime(sst_filtered['time'])\n",
    "    except ValueError as e:\n",
    "        print(e)\n",
    "        pass\n"
   ]
  },
  {
   "cell_type": "code",
   "execution_count": null,
   "metadata": {},
   "outputs": [],
   "source": [
    "#Interpolate the model data to the SST location\n",
    "model.chunk({'time': model['time'].size})\n",
    "model = model.interp(sst_filtered.coords, method='nearest').load()\n"
   ]
  },
  {
   "cell_type": "code",
   "execution_count": null,
   "metadata": {},
   "outputs": [],
   "source": [
    "result = xr.Dataset()\n",
    "\n",
    "model.data[model.data == 0] = np.nan\n",
    "bias = model - sst_filtered\n",
    "\n",
    "result['bias'] = bias.mean(dim='time')\n",
    "result['rmse'] = xr.ufuncs.sqrt((bias ** 2.).mean(dim='time'))\n",
    "\n",
    "result['bias_ts'] = bias.mean(dim=['lat', 'lon'])\n",
    "result['rmse_ts'] = xr.ufuncs.sqrt((bias ** 2.)).mean(dim=['lat', 'lon'])\n",
    "\n",
    "result.to_dataframe()\n"
   ]
  },
  {
   "cell_type": "code",
   "execution_count": null,
   "metadata": {},
   "outputs": [],
   "source": [
    "import matplotlib\n",
    "import cartopy.crs as ccrs\n",
    "import cartopy.feature as cfeature\n",
    "from cartopy.mpl.gridliner import LONGITUDE_FORMATTER, LATITUDE_FORMATTER\n",
    "\n",
    "%matplotlib inline\n",
    "import matplotlib.pyplot as plt\n",
    "\n",
    "for metric in ['Bias', 'RMSE']:\n",
    "    fig = plt.figure(dpi=120)\n",
    "    ax = plt.axes()\n",
    "\n",
    "    plt.plot(result['time'].data, result['%s_ts' % metric.lower()], '.-')\n",
    "\n",
    "    plt.title('sst')\n",
    "    plt.ylabel('%s [%s]' % (metric, model.attrs['units']))\n",
    "    plt.xlabel('Time')\n",
    "    plt.grid(True, c='silver', lw=1, ls=':')\n",
    "    plt.tight_layout()\n",
    "    fig.autofmt_xdate()\n",
    "\n",
    "    plt.savefig('sst_%s.png' % (metric.lower()))\n",
    "\n",
    "    plt.show()\n"
   ]
  },
  {
   "cell_type": "code",
   "execution_count": null,
   "metadata": {},
   "outputs": [],
   "source": [
    "import zapata.mapping as zmap\n",
    "\n",
    "bigtit = 'SST'\n",
    "left1 = 'Bias'\n",
    "left2 = 'RMSE'\n",
    "\n",
    "fig, ax, pro = zmap.init_figure(2, 1, 'Pacific', constrained_layout=False, figsize=(24, 12))\n",
    "\n",
    "handle = zmap.xmap(result['bias'], [], pro, ax=ax[0], contour=False, xlimit=[27.32, 41.96], ylimit=[40.86, 46.80], \\\n",
    "                   maintitle=bigtit, lefttitle=left1, cmap='coolwarm')\n",
    "# Add horizontal colorbar\n",
    "zmap.add_colorbar(fig, handle['filled'], ax[0], colorbar_size=0.01, label_size=10, edges=True)\n",
    "\n",
    "han1 = zmap.xmap(result['rmse'], [], pro, ax=ax[1], contour=False, xlimit=[27.32, 41.96], ylimit=[40.86, 46.80], \\\n",
    "                 maintitle=bigtit, lefttitle=left2, cmap='coolwarm')\n",
    "zmap.add_colorbar(fig, han1['filled'], ax[1], colorbar_size=0.01, label_size=10, edges=True)\n",
    "\n",
    "fig.subplots_adjust(wspace=0, hspace=0.2)\n",
    "\n",
    "plt.savefig('SST.pdf')\n",
    "plt.show()\n"
   ]
  },
  {
   "cell_type": "code",
   "execution_count": null,
   "metadata": {},
   "outputs": [],
   "source": []
  }
 ],
 "metadata": {
  "kernelspec": {
   "display_name": "Python 3",
   "language": "python",
   "name": "python3"
  },
  "language_info": {
   "codemirror_mode": {
    "name": "ipython",
    "version": 3
   },
   "file_extension": ".py",
   "mimetype": "text/x-python",
   "name": "python",
   "nbconvert_exporter": "python",
   "pygments_lexer": "ipython3",
   "version": "3.7.8"
  }
 },
 "nbformat": 4,
 "nbformat_minor": 4
}
