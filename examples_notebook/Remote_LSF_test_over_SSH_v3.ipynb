{
 "cells": [
  {
   "cell_type": "markdown",
   "metadata": {},
   "source": [
    "### Example notebook for remote job execution on Zeus\n",
    "\n",
    "#### Prerequisite: prepare the environment \n",
    "\n",
    "1. Connect to the Zeus VPN using the VPN client, e.g. TunnelBlick\n",
    "\n",
    "2. Add your local public key in the .ssh/authorized_keys on your Zeus account\n",
    "\n",
    "3. Copy the zeus_util.py script in the same directory of this notebook. The module requires *IPython* and *ipywidgets* Python libraries. If not already available, these can installed with one of the following commands:\n",
    "\n",
    "`pip3 install IPython ipywidgets`\n",
    "\n",
    "`conda install -c conda-forge IPython ipywidgets`"
   ]
  },
  {
   "cell_type": "markdown",
   "metadata": {},
   "source": [
    "#### Run a CDO operator remotely\n"
   ]
  },
  {
   "cell_type": "markdown",
   "metadata": {},
   "source": [
    "Import Python utilities and setup Zeus username (replace YOURUSERNAME with your account)"
   ]
  },
  {
   "cell_type": "code",
   "execution_count": 2,
   "metadata": {},
   "outputs": [],
   "source": [
    "import zapata.zeus_util as zeus\n",
    "zeus.init(user=\"an28919\")"
   ]
  },
  {
   "cell_type": "markdown",
   "metadata": {},
   "source": [
    "Create a script for the LSF job locally (for example a CDO command producing the tasmax_max.nc file)"
   ]
  },
  {
   "cell_type": "code",
   "execution_count": 6,
   "metadata": {},
   "outputs": [],
   "source": [
    "import os\n",
    "homedir = os.path.expanduser(\"~\")\n",
    "script_name = homedir + '/Dropbox (CMCC)/dev_zapata_mine/cdo.lsf'\n",
    "with open(script_name, \"w\") as lsf_file:\n",
    "    lsf_file.write(\"#!/bin/sh\\n\")\n",
    "    lsf_file.write(\"#BSUB -q p_short\\n\")\n",
    "    lsf_file.write(\"#BSUB -n 1\\n\")\n",
    "    lsf_file.write(\"#BSUB -e cdo_%J.err\\n\")\n",
    "    lsf_file.write(\"#BSUB -o cdo_%J.out\\n\")\n",
    "    lsf_file.write(\"module load intel19.5/19.5.281\\n\")\n",
    "    lsf_file.write(\"module load intel19.5/eccodes/2.12.5\\n\")\n",
    "    lsf_file.write(\"module load intel19.5/magics/3.3.1\\n\")\n",
    "    lsf_file.write(\"module load intel19.5/cdo/1.9.8\\n\")\n",
    "    lsf_file.write(\"cdo timmax /work/asc/ophidia/demo/tasmax_day_CMCC-CESM_rcp85_r1i1p1_20960101-21001231.nc tasmax_max.nc\\n\")"
   ]
  },
  {
   "cell_type": "markdown",
   "metadata": {},
   "source": [
    "Upload the script, submit the job on LSF, check its status every 10 seconds and download the compressed output from the script (replace \"PATH OF HOME FOLDER ON ZEUS\")"
   ]
  },
  {
   "cell_type": "code",
   "execution_count": 4,
   "metadata": {},
   "outputs": [
    {
     "data": {
      "text/plain": [
       "'Starting Job execution'"
      ]
     },
     "metadata": {},
     "output_type": "display_data"
    },
    {
     "data": {
      "application/vnd.jupyter.widget-view+json": {
       "model_id": "17fcd1e199c7476285b2e25d9bb5b443",
       "version_major": 2,
       "version_minor": 0
      },
      "text/plain": [
       "Output()"
      ]
     },
     "metadata": {},
     "output_type": "display_data"
    }
   ],
   "source": [
    "data = \"/users_home/oda/an28919/tasmax_max.nc\"\n",
    "zeus.process(script_name, data, compress=True, frequency=10)"
   ]
  },
  {
   "cell_type": "markdown",
   "metadata": {},
   "source": [
    "While the previous job is still running, check job status using the JOBID printed as output of the previous command or without any jobid to get the full list of jobs"
   ]
  },
  {
   "cell_type": "code",
   "execution_count": 5,
   "metadata": {},
   "outputs": [
    {
     "name": "stdout",
     "output_type": "stream",
     "text": [
      "JOBID   USER    STAT  QUEUE      FROM_HOST   EXEC_HOST   JOB_NAME   SUBMIT_TIME\n",
      "127635  an28919 DONE  p_short    login1-ib   n103-ib     *ax_max.nc Jun  9 11:10\n"
     ]
    }
   ],
   "source": [
    "zeus.info()"
   ]
  },
  {
   "cell_type": "markdown",
   "metadata": {},
   "source": [
    "Run a custom command remotely (e.g. the *ls* command)"
   ]
  },
  {
   "cell_type": "code",
   "execution_count": null,
   "metadata": {},
   "outputs": [],
   "source": [
    "zeus.execute(\"ls\")"
   ]
  },
  {
   "cell_type": "markdown",
   "metadata": {},
   "source": [
    "Print documentation about the previous function"
   ]
  },
  {
   "cell_type": "code",
   "execution_count": null,
   "metadata": {},
   "outputs": [],
   "source": [
    "help(zeus.info)"
   ]
  }
 ],
 "metadata": {
  "kernelspec": {
   "display_name": "Python 3",
   "language": "python",
   "name": "python3"
  },
  "language_info": {
   "codemirror_mode": {
    "name": "ipython",
    "version": 3
   },
   "file_extension": ".py",
   "mimetype": "text/x-python",
   "name": "python",
   "nbconvert_exporter": "python",
   "pygments_lexer": "ipython3",
   "version": "3.7.6"
  }
 },
 "nbformat": 4,
 "nbformat_minor": 4
}
