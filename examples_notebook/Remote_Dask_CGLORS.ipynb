{
 "cells": [
  {
   "cell_type": "markdown",
   "metadata": {},
   "source": [
    "### Example notebook to analyze remote data on Zeus - C-GLORSv7\n",
    "\n",
    "#### Prerequisite: prepare the environment \n",
    "\n",
    "1. Connect to the Zeus VPN using the VPN client, e.g. TunnelBlick\n",
    "\n",
    "2. Add your local public key in the .ssh/authorized_keys on your Zeus account\n",
    "\n",
    "3. Create the full conda environment starting from the requirements listed in *environment.yml* by running the following commands:\n",
    "\n",
    "`conda env create -f environment.yml`\n",
    "\n",
    "`source activate zapata`"
   ]
  },
  {
   "cell_type": "markdown",
   "metadata": {},
   "source": [
    "Import Python utilities and setup Zeus username (replace YOURUSERNAME with your account)"
   ]
  },
  {
   "cell_type": "code",
   "execution_count": 16,
   "metadata": {},
   "outputs": [],
   "source": [
    "import os, sys\n",
    "sys.path.append(\"../\")\n",
    "import zeus\n",
    "zeus.init(user=\"tl28319\",host='zeus')"
   ]
  },
  {
   "cell_type": "markdown",
   "metadata": {},
   "source": [
    "Start a Dask client on Zeus with 1 worker node (*n_workers = 1*)"
   ]
  },
  {
   "cell_type": "code",
   "execution_count": 17,
   "metadata": {
    "scrolled": true
   },
   "outputs": [
    {
     "name": "stdout",
     "output_type": "stream",
     "text": [
      "/users_home/oda/tl28319/dask-space/connection\n",
      "Scheduler address is: tcp://192.168.118.12:44308\n",
      "Job <21369> is submitted to queue <p_short>.\n",
      "\n"
     ]
    }
   ],
   "source": [
    "from distributed import Client, get_client\n",
    "client = zeus.start_dask(name=\"Zapata\",\n",
    "              project=\"R000\",\n",
    "              cores=36,\n",
    "              processes=12,\n",
    "              memory=\"50 GB\",\n",
    "              interface=\"ib0\",\n",
    "              walltime=\"00:30\", \n",
    "              job_extra=[\"-x\"], \n",
    "              n_workers=1\n",
    "             )"
   ]
  },
  {
   "cell_type": "markdown",
   "metadata": {},
   "source": [
    "Check if it the cluster has been allocated on LSF (some time is required before LSF provides the resources; try to run the cell again after a few seconds). When available click on the **Dashboard** link to open the Dask monitoring interface."
   ]
  },
  {
   "cell_type": "code",
   "execution_count": 18,
   "metadata": {},
   "outputs": [
    {
     "data": {
      "text/html": [
       "<table style=\"border: 2px solid white;\">\n",
       "<tr>\n",
       "<td style=\"vertical-align: top; border: 0px solid white\">\n",
       "<h3 style=\"text-align: left;\">Client</h3>\n",
       "<ul style=\"text-align: left; list-style: none; margin: 0; padding: 0;\">\n",
       "  <li><b>Scheduler: </b>tcp://192.168.118.12:44308</li>\n",
       "  <li><b>Dashboard: </b><a href='http://192.168.118.12:39398/status' target='_blank'>http://192.168.118.12:39398/status</a>\n",
       "</ul>\n",
       "</td>\n",
       "<td style=\"vertical-align: top; border: 0px solid white\">\n",
       "<h3 style=\"text-align: left;\">Cluster</h3>\n",
       "<ul style=\"text-align: left; list-style:none; margin: 0; padding: 0;\">\n",
       "  <li><b>Workers: </b>12</li>\n",
       "  <li><b>Cores: </b>36</li>\n",
       "  <li><b>Memory: </b>50.00 GB</li>\n",
       "</ul>\n",
       "</td>\n",
       "</tr>\n",
       "</table>"
      ],
      "text/plain": [
       "<Client: 'tcp://192.168.118.12:44308' processes=12 threads=36, memory=50.00 GB>"
      ]
     },
     "execution_count": 18,
     "metadata": {},
     "output_type": "execute_result"
    }
   ],
   "source": [
    "client"
   ]
  },
  {
   "cell_type": "markdown",
   "metadata": {},
   "source": [
    "Let's load the C-GLORSv7 dataset in parallel using Xarray using zapata data interface."
   ]
  },
  {
   "cell_type": "code",
   "execution_count": 19,
   "metadata": {},
   "outputs": [],
   "source": [
    "def read_remote():\n",
    "    import sys\n",
    "    sys.path.append('/users_home/oda/tl28319/GIT/Zapata')                       \n",
    "    import zapata.data as zdat\n",
    "    client = get_client()\n",
    "    thedata = zdat.read_xarray(dataset='C-GLORSv7', var='votemper', period=[2000, 2001], season='JFM', level=[500.])\n",
    "    return thedata\n",
    "\n",
    "future = client.submit(read_remote)\n",
    "temp = future.result()"
   ]
  },
  {
   "cell_type": "markdown",
   "metadata": {},
   "source": [
    "Show the computation result"
   ]
  },
  {
   "cell_type": "code",
   "execution_count": 23,
   "metadata": {},
   "outputs": [
    {
     "name": "stdout",
     "output_type": "stream",
     "text": [
      "<xarray.DataArray (time: 2, lev: 1, lat: 1050, lon: 1442)>\n",
      "dask.array<getitem, shape=(2, 1, 1050, 1442), dtype=float64, chunksize=(1, 1, 1050, 1442), chunktype=numpy.ndarray>\n",
      "Coordinates:\n",
      "  * time     (time) datetime64[ns] 2000-03-31 2001-03-31\n",
      "  * lev      (lev) float32 508.6399\n",
      "Dimensions without coordinates: lat, lon\n",
      "Attributes:\n",
      "    standard_name:       sea_water_potential_temperature\n",
      "    long_name:           temperature\n",
      "    units:               degC\n",
      "    online_operation:    average\n",
      "    interval_operation:  1080 s\n",
      "    interval_write:      1 d\n",
      "    cell_methods:        time: mean (interval: 1080 s)\n",
      "    coordinates:         time_centered deptht gphit glamt\n",
      "    realm:               ocn\n",
      "    time_resample:       JFM\n",
      "Size in bytes is : 24225600\n"
     ]
    }
   ],
   "source": [
    "print(temp)\n",
    "print(\"Size in bytes is : %i\" % temp.nbytes)"
   ]
  },
  {
   "cell_type": "markdown",
   "metadata": {},
   "source": [
    "Create a map of the average temperature using zapata mapping tools."
   ]
  },
  {
   "cell_type": "code",
   "execution_count": null,
   "metadata": {},
   "outputs": [],
   "source": [
    "import zapata.mapping as zmap"
   ]
  },
  {
   "cell_type": "markdown",
   "metadata": {},
   "source": [
    "Shutdown the cluster and release the resources on LSF. Note sometimes warnings might be raised by the function due to synchronization effects."
   ]
  },
  {
   "cell_type": "code",
   "execution_count": 24,
   "metadata": {},
   "outputs": [
    {
     "name": "stdout",
     "output_type": "stream",
     "text": [
      "Job <21369> is being terminated\n"
     ]
    },
    {
     "name": "stderr",
     "output_type": "stream",
     "text": [
      "distributed.client - ERROR - Failed to reconnect to scheduler after 10.00 seconds, closing client\n",
      "_GatheringFuture exception was never retrieved\n",
      "future: <_GatheringFuture finished exception=CancelledError()>\n",
      "concurrent.futures._base.CancelledError\n"
     ]
    }
   ],
   "source": [
    "zeus.stop_dask(client)"
   ]
  }
 ],
 "metadata": {
  "kernelspec": {
   "display_name": "Python 3",
   "language": "python",
   "name": "python3"
  },
  "language_info": {
   "codemirror_mode": {
    "name": "ipython",
    "version": 3
   },
   "file_extension": ".py",
   "mimetype": "text/x-python",
   "name": "python",
   "nbconvert_exporter": "python",
   "pygments_lexer": "ipython3",
   "version": "3.7.8"
  }
 },
 "nbformat": 4,
 "nbformat_minor": 4
}
